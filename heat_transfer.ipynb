{
 "cells": [
  {
   "cell_type": "markdown",
   "metadata": {},
   "source": [
    "## Heat tranfer in pipes"
   ]
  },
  {
   "cell_type": "markdown",
   "metadata": {},
   "source": [
    "This notebooks helps to define better initial estimates to permit an easy convergence of the DAETools."
   ]
  },
  {
   "cell_type": "markdown",
   "metadata": {},
   "source": [
    "#### Specifications"
   ]
  },
  {
   "cell_type": "code",
   "execution_count": 121,
   "metadata": {},
   "outputs": [],
   "source": [
    "p1 = 9.95*1e5 # Pa - upstrem pressure\n",
    "v = 1.0 # m/s - fluid velocity\n",
    "T = 300 # K - fluid temperature\n",
    "pi = 3.14"
   ]
  },
  {
   "cell_type": "markdown",
   "metadata": {},
   "source": [
    "#### Parameters"
   ]
  },
  {
   "cell_type": "code",
   "execution_count": 158,
   "metadata": {},
   "outputs": [
    {
     "name": "stdout",
     "output_type": "stream",
     "text": [
      "rho = 996.937908321761\n",
      "mu = 0.0008582410285531535\n",
      "kappa = 0.6099612012445662\n",
      "cp = 4178.757816453117\n"
     ]
    }
   ],
   "source": [
    "Di = 1.0 * 4.026*0.0254 # m\n",
    "Do = 1.1 * 4.026*0.0254 # m\n",
    "ep = 0.0018*0.0254 # m\n",
    "kwall = 51.9 # (K ** (-1))*(J ** (1))*(s ** (-1))*(m ** (-1))\n",
    "Text = 273 + 60. #K\n",
    "hext = 12566.787163427189 # (K ** (-1))*(J ** (1))*(s ** (-1))*(m ** (-2))\n",
    "L = 100 # m\n",
    "g = 9.81\n",
    "rhov = 1/7.650\n",
    "hvap = 2358400\n",
    "Tsat = Text\n",
    "Ntub = 1\n",
    "\n",
    "# Properties\n",
    "from water_properties import density, viscosity, conductivity, heat_capacity\n",
    "rho = density(T, p1, simplified=True)\n",
    "mu = viscosity(T, p1, simplified=True)\n",
    "kappa = conductivity(T, p1, simplified=True)\n",
    "cp = heat_capacity(T, p1, simplified=True)\n",
    "prandtl = cp * mu / kappa\n",
    "\n",
    "# Reynolds\n",
    "D = Di\n",
    "Re = D * v * rho / mu\n",
    "\n",
    "print(\"rho = {0}\".format(rho))\n",
    "print(\"mu = {0}\".format(mu))\n",
    "print(\"kappa = {0}\".format(kappa))\n",
    "print(\"cp = {0}\".format(cp))"
   ]
  },
  {
   "cell_type": "markdown",
   "metadata": {},
   "source": [
    "#### Friction factor calculation"
   ]
  },
  {
   "cell_type": "code",
   "execution_count": 123,
   "metadata": {},
   "outputs": [
    {
     "name": "stdout",
     "output_type": "stream",
     "text": [
      "The Reynolds number is: 118786.29183227483\n",
      "The rougthness is 4.5719999999999996e-05 m\n",
      "The flow diameter is 0.10226039999999999 m\n",
      "The calculated friction factor is: 0.019647235607534896\n",
      "The residue is 8.881784197001252e-16\n"
     ]
    }
   ],
   "source": [
    "from scipy.optimize import root\n",
    "import numpy as np\n",
    "\n",
    "def darcy(ifD, ep, D, Re):\n",
    "    res = ifD + 2. * np.log10(ep / 3.72 / D + (2.51 / Re) * ifD )\n",
    "    return res\n",
    "\n",
    "def calculate_darcy(fD0, ep, D, Re):\n",
    "    ifD0 = fD0 ** -0.5\n",
    "    sol = root(darcy, ifD0, args=(ep, D, Re),)\n",
    "    ifD = sol.x[0]\n",
    "    fD = ifD ** -2\n",
    "    res = darcy(ifD, ep, D, Re)\n",
    "    return (fD, res)\n",
    "\n",
    "fD0 = 0.018    \n",
    "fD, res = calculate_darcy(fD0, ep, D, Re)\n",
    "print(\"The Reynolds number is: {0}\".format(Re))\n",
    "print(\"The rougthness is {0} m\".format(ep))\n",
    "print(\"The flow diameter is {0} m\".format(D))\n",
    "print(\"The calculated friction factor is: {0}\".format(fD))\n",
    "print(\"The residue is {0}\".format(res))\n",
    "\n"
   ]
  },
  {
   "cell_type": "markdown",
   "metadata": {},
   "source": [
    "#### Calculate pressure"
   ]
  },
  {
   "cell_type": "code",
   "execution_count": 124,
   "metadata": {},
   "outputs": [
    {
     "name": "stdout",
     "output_type": "stream",
     "text": [
      "The pressure loss is equal to 95.77057184834338 Pa/m\n",
      "The upstream pressure is equal to 994999.9999999999 Pa\n",
      "The downstream pressure is equal to 985422.9428151655 Pa\n",
      "The mass flowrate is equal to 8.18375730036397 kg/s\n"
     ]
    }
   ],
   "source": [
    "hL = 0.5 * fD * v ** 2 /  (D * g )\n",
    "DeltaP = g * rho * hL\n",
    "p2 = p1 - DeltaP * L\n",
    "A = 0.25 * 3.14 * D **2 \n",
    "q = rho * v * A\n",
    "print(\"The pressure loss is equal to {0} Pa/m\".format(DeltaP))\n",
    "print(\"The upstream pressure is equal to {0} Pa\".format(p1))\n",
    "print(\"The downstream pressure is equal to {0} Pa\".format(p2))\n",
    "print(\"The mass flowrate is equal to {0} kg/s\".format(q))"
   ]
  },
  {
   "cell_type": "markdown",
   "metadata": {},
   "source": [
    "## Case A - Fixed External Temperature"
   ]
  },
  {
   "cell_type": "markdown",
   "metadata": {},
   "source": [
    "#### External convection coefficient"
   ]
  },
  {
   "cell_type": "code",
   "execution_count": 125,
   "metadata": {},
   "outputs": [
    {
     "name": "stdout",
     "output_type": "stream",
     "text": [
      "The calculated internal resistance is 0.0 (K ** (1))*(W ** (-1))*(m ** (1))\n"
     ]
    }
   ],
   "source": [
    "Resext = 0.0\n",
    "print(\"The calculated internal resistance is {0} (K ** (1))*(W ** (-1))*(m ** (1))\".format(Resext))"
   ]
  },
  {
   "cell_type": "markdown",
   "metadata": {},
   "source": [
    "#### Internal convection coefficient"
   ]
  },
  {
   "cell_type": "code",
   "execution_count": 126,
   "metadata": {
    "scrolled": true
   },
   "outputs": [
    {
     "name": "stdout",
     "output_type": "stream",
     "text": [
      "The calculated internal convection coeffient is 1398.8091902015963 (K ** (-1))*(W ** (1))*(m ** (-2))\n",
      "The calculated internal resistance is 0.0011132030616867582 (K ** (1))*(W ** (-1))*(m ** (1))\n"
     ]
    }
   ],
   "source": [
    "# Calculates the Nussel dimensionless number using Petukhov correlation modified by Gnielinski. See Incropera 4th Edition [8.63]\n",
    "nusselt = (fD / 8.) * (Re - 1000.) * prandtl / ( 1. + 12.7 * (fD / 8.) ** 0.5 * (prandtl ** 2 / 3) - 1.)\n",
    "hint = nusselt * kappa / D\n",
    "Resint = 1 / (2 * pi * D * hint)\n",
    "print(\"The calculated internal convection coeffient is {0} (K ** (-1))*(W ** (1))*(m ** (-2))\".format(hint))\n",
    "print(\"The calculated internal resistance is {0} (K ** (1))*(W ** (-1))*(m ** (1))\".format(Resint))"
   ]
  },
  {
   "cell_type": "markdown",
   "metadata": {},
   "source": [
    "#### Wall conduction"
   ]
  },
  {
   "cell_type": "code",
   "execution_count": 127,
   "metadata": {},
   "outputs": [
    {
     "name": "stdout",
     "output_type": "stream",
     "text": [
      "The calculated wall resistance is 0.00029242351105238253 (K ** (1))*(W ** (-1))*(m ** (1))\n"
     ]
    }
   ],
   "source": [
    "Reswall = np.log(Do / Di) / (2 * pi * kwall)\n",
    "print(\"The calculated wall resistance is {0} (K ** (1))*(W ** (-1))*(m ** (1))\".format(Reswall))"
   ]
  },
  {
   "cell_type": "markdown",
   "metadata": {},
   "source": [
    "#### Total Thermal resistance "
   ]
  },
  {
   "cell_type": "code",
   "execution_count": 128,
   "metadata": {
    "scrolled": true
   },
   "outputs": [
    {
     "name": "stdout",
     "output_type": "stream",
     "text": [
      "The total heat transfer resistance is 0.0014056265727391407 (K ** (1))*(W ** (-1))*(m ** (1))\n"
     ]
    }
   ],
   "source": [
    "Restotal = Resext + Resint + Reswall\n",
    "print(\"The total heat transfer resistance is {0} (K ** (1))*(W ** (-1))*(m ** (1))\".format(Restotal))"
   ]
  },
  {
   "cell_type": "markdown",
   "metadata": {},
   "source": [
    "#### Temperature profiles"
   ]
  },
  {
   "cell_type": "code",
   "execution_count": 129,
   "metadata": {
    "scrolled": false
   },
   "outputs": [
    {
     "name": "stdout",
     "output_type": "stream",
     "text": [
      "The total heat transfered is -23477.07466549454 (K ** (-1))*(W ** (1))*(m ** (-1))\n",
      "The temperature T is 300 K\n",
      "The temperature Ti is 326.13475139707714 K\n",
      "The temperature To is 333.0 K\n",
      "The temperature Text is 333.0 K\n"
     ]
    }
   ],
   "source": [
    "Qout = (T - Text) / Restotal\n",
    "T = T\n",
    "Ti = T - Qout*Resint\n",
    "To = Text + Qout*Resext\n",
    "print(\"The total heat transfered is {0} (K ** (-1))*(W ** (1))*(m ** (-1))\".format(Qout))\n",
    "print(\"The temperature T is {0} K\".format(T))\n",
    "print(\"The temperature Ti is {0} K\".format(Ti))\n",
    "print(\"The temperature To is {0} K\".format(To))\n",
    "print(\"The temperature Text is {0} K\".format(Text))"
   ]
  },
  {
   "cell_type": "markdown",
   "metadata": {},
   "source": [
    "## Case B - Fixed External Convection"
   ]
  },
  {
   "cell_type": "markdown",
   "metadata": {},
   "source": [
    "#### External convection coefficient"
   ]
  },
  {
   "cell_type": "code",
   "execution_count": 153,
   "metadata": {},
   "outputs": [
    {
     "name": "stdout",
     "output_type": "stream",
     "text": [
      "The calculated external convection coeffient is 6872.579071624325 (K ** (-1))*(W ** (1))*(m ** (-2))\n",
      "The calculated external resistance is 0.00022657559222231832 (K ** (1))*(W ** (-1))*(m ** (1))\n"
     ]
    }
   ],
   "source": [
    "hext = 6872.579071624325\n",
    "Resext = 1 / (2 * pi * D * hext)\n",
    "print(\"The calculated external convection coeffient is {0} (K ** (-1))*(W ** (1))*(m ** (-2))\".format(hext))\n",
    "print(\"The calculated external resistance is {0} (K ** (1))*(W ** (-1))*(m ** (1))\".format(Resext))"
   ]
  },
  {
   "cell_type": "markdown",
   "metadata": {},
   "source": [
    "#### Internal convection coefficient"
   ]
  },
  {
   "cell_type": "code",
   "execution_count": 154,
   "metadata": {
    "scrolled": true
   },
   "outputs": [
    {
     "name": "stdout",
     "output_type": "stream",
     "text": [
      "The calculated internal convection coeffient is 1398.8091902015963 (K ** (-1))*(W ** (1))*(m ** (-2))\n",
      "The calculated internal resistance is 0.0011132030616867582 (K ** (1))*(W ** (-1))*(m ** (1))\n"
     ]
    }
   ],
   "source": [
    "# Calculates the Nussel dimensionless number using Petukhov correlation modified by Gnielinski. See Incropera 4th Edition [8.63]\n",
    "nusselt = (fD / 8.) * (Re - 1000.) * prandtl / ( 1. + 12.7 * (fD / 8.) ** 0.5 * (prandtl ** 2 / 3) - 1.)\n",
    "hint = nusselt * kappa / D\n",
    "Resint = 1 / (2 * pi * D * hint)\n",
    "print(\"The calculated internal convection coeffient is {0} (K ** (-1))*(W ** (1))*(m ** (-2))\".format(hint))\n",
    "print(\"The calculated internal resistance is {0} (K ** (1))*(W ** (-1))*(m ** (1))\".format(Resint))"
   ]
  },
  {
   "cell_type": "markdown",
   "metadata": {},
   "source": [
    "#### Wall conduction"
   ]
  },
  {
   "cell_type": "code",
   "execution_count": 155,
   "metadata": {},
   "outputs": [
    {
     "name": "stdout",
     "output_type": "stream",
     "text": [
      "The calculated wall resistance is 0.00029242351105238253 (K ** (1))*(W ** (-1))*(m ** (1))\n"
     ]
    }
   ],
   "source": [
    "Reswall = np.log(Do / Di) / (2 * pi * kwall)\n",
    "print(\"The calculated wall resistance is {0} (K ** (1))*(W ** (-1))*(m ** (1))\".format(Reswall))"
   ]
  },
  {
   "cell_type": "markdown",
   "metadata": {},
   "source": [
    "#### Total Thermal resistance "
   ]
  },
  {
   "cell_type": "code",
   "execution_count": 156,
   "metadata": {
    "scrolled": true
   },
   "outputs": [
    {
     "name": "stdout",
     "output_type": "stream",
     "text": [
      "The total heat transfer resistance is 0.0016322021649614591 (K ** (1))*(W ** (-1))*(m ** (1))\n"
     ]
    }
   ],
   "source": [
    "Restotal = Resext + Resint + Reswall\n",
    "print(\"The total heat transfer resistance is {0} (K ** (1))*(W ** (-1))*(m ** (1))\".format(Restotal))"
   ]
  },
  {
   "cell_type": "markdown",
   "metadata": {},
   "source": [
    "#### Temperature profiles"
   ]
  },
  {
   "cell_type": "code",
   "execution_count": 157,
   "metadata": {
    "scrolled": true
   },
   "outputs": [
    {
     "name": "stdout",
     "output_type": "stream",
     "text": [
      "The total heat transfered is -20218.08370826369 (K ** (-1))*(W ** (1))*(m ** (-1))\n",
      "The temperature T is 300 K\n",
      "The temperature Ti is 322.5068326854783 K\n",
      "The temperature To is 328.41907571019976 K\n",
      "The temperature Text is 333.0 K\n"
     ]
    }
   ],
   "source": [
    "Qout = (T - Text) / Restotal\n",
    "T = T\n",
    "Ti = T - Qout*Resint\n",
    "To = Text + Qout*Resext\n",
    "print(\"The total heat transfered is {0} (K ** (-1))*(W ** (1))*(m ** (-1))\".format(Qout))\n",
    "print(\"The temperature T is {0} K\".format(T))\n",
    "print(\"The temperature Ti is {0} K\".format(Ti))\n",
    "print(\"The temperature To is {0} K\".format(To))\n",
    "print(\"The temperature Text is {0} K\".format(Text))"
   ]
  },
  {
   "cell_type": "markdown",
   "metadata": {},
   "source": [
    "## Case C - External film condensation"
   ]
  },
  {
   "cell_type": "markdown",
   "metadata": {},
   "source": [
    "#### External convection coefficient"
   ]
  },
  {
   "cell_type": "code",
   "execution_count": 159,
   "metadata": {},
   "outputs": [
    {
     "name": "stdout",
     "output_type": "stream",
     "text": [
      "6086719006114.879 0.000255143755439424 9059.977219137703\n",
      "The calculated external convection coeffient is 9059.977219137703 (K ** (-1))*(W ** (1))*(m ** (-2))\n",
      "The calculated external resistance is 0.00017187225040243495 (K ** (1))*(W ** (-1))*(m ** (1))\n"
     ]
    }
   ],
   "source": [
    "rho_o = density(To, p1, simplified=True)\n",
    "kappa_o = conductivity(To, p1, simplified=True)\n",
    "mu_o = viscosity(To, p1, simplified=True)\n",
    "\n",
    "num = (g * rho_o * (rho_o - rhov) * kappa_o ** 3. * hvap)\n",
    "den = mu_o * (Tsat - To) * Do\n",
    "\n",
    "hd1 = 0.729 * (num / den) ** 0.25\n",
    "\n",
    "# Correction factor for multiple tubes\n",
    "f = Ntub ** 0.75 - (Ntub - 1) ** 0.75\n",
    "\n",
    "hext = f * hd1\n",
    "Resext = 1 / (2 * pi * D * hext)\n",
    "print(num, den, hd1)\n",
    "print(\"The calculated external convection coeffient is {0} (K ** (-1))*(W ** (1))*(m ** (-2))\".format(hext))\n",
    "print(\"The calculated external resistance is {0} (K ** (1))*(W ** (-1))*(m ** (1))\".format(Resext))"
   ]
  },
  {
   "cell_type": "markdown",
   "metadata": {},
   "source": [
    "#### Internal convection coefficient"
   ]
  },
  {
   "cell_type": "code",
   "execution_count": 149,
   "metadata": {
    "scrolled": true
   },
   "outputs": [
    {
     "name": "stdout",
     "output_type": "stream",
     "text": [
      "The calculated internal convection coeffient is 1398.8091902015963 (K ** (-1))*(W ** (1))*(m ** (-2))\n",
      "The calculated internal resistance is 0.0011132030616867582 (K ** (1))*(W ** (-1))*(m ** (1))\n"
     ]
    }
   ],
   "source": [
    "# Calculates the Nussel dimensionless number using Petukhov correlation modified by Gnielinski. See Incropera 4th Edition [8.63]\n",
    "nusselt = (fD / 8.) * (Re - 1000.) * prandtl / ( 1. + 12.7 * (fD / 8.) ** 0.5 * (prandtl ** 2 / 3) - 1.)\n",
    "hint = nusselt * kappa / D\n",
    "Resint = 1 / (2 * pi * D * hint)\n",
    "print(\"The calculated internal convection coeffient is {0} (K ** (-1))*(W ** (1))*(m ** (-2))\".format(hint))\n",
    "print(\"The calculated internal resistance is {0} (K ** (1))*(W ** (-1))*(m ** (1))\".format(Resint))"
   ]
  },
  {
   "cell_type": "markdown",
   "metadata": {},
   "source": [
    "#### Wall conduction"
   ]
  },
  {
   "cell_type": "code",
   "execution_count": 150,
   "metadata": {},
   "outputs": [
    {
     "name": "stdout",
     "output_type": "stream",
     "text": [
      "The calculated wall resistance is 0.00029242351105238253 (K ** (1))*(W ** (-1))*(m ** (1))\n"
     ]
    }
   ],
   "source": [
    "Reswall = np.log(Do / Di) / (2 * pi * kwall)\n",
    "print(\"The calculated wall resistance is {0} (K ** (1))*(W ** (-1))*(m ** (1))\".format(Reswall))"
   ]
  },
  {
   "cell_type": "markdown",
   "metadata": {},
   "source": [
    "#### Total Thermal resistance "
   ]
  },
  {
   "cell_type": "code",
   "execution_count": 151,
   "metadata": {
    "scrolled": true
   },
   "outputs": [
    {
     "name": "stdout",
     "output_type": "stream",
     "text": [
      "The total heat transfer resistance is 0.0016322021649614591 (K ** (1))*(W ** (-1))*(m ** (1))\n"
     ]
    }
   ],
   "source": [
    "Restotal = Resext + Resint + Reswall\n",
    "print(\"The total heat transfer resistance is {0} (K ** (1))*(W ** (-1))*(m ** (1))\".format(Restotal))"
   ]
  },
  {
   "cell_type": "markdown",
   "metadata": {},
   "source": [
    "#### Temperature profiles"
   ]
  },
  {
   "cell_type": "code",
   "execution_count": 152,
   "metadata": {
    "scrolled": true
   },
   "outputs": [
    {
     "name": "stdout",
     "output_type": "stream",
     "text": [
      "The total heat transfered is -20218.08370826369 (K ** (-1))*(W ** (1))*(m ** (-1))\n",
      "The temperature T is 300 K\n",
      "The temperature Ti is 322.5068326854783 K\n",
      "The temperature To is 328.41907571019976 K\n",
      "The temperature Text is 333.0 K\n"
     ]
    }
   ],
   "source": [
    "Qout = (T - Text) / Restotal\n",
    "T = T\n",
    "Ti = T - Qout*Resint\n",
    "To = Text + Qout*Resext\n",
    "print(\"The total heat transfered is {0} (K ** (-1))*(W ** (1))*(m ** (-1))\".format(Qout))\n",
    "print(\"The temperature T is {0} K\".format(T))\n",
    "print(\"The temperature Ti is {0} K\".format(Ti))\n",
    "print(\"The temperature To is {0} K\".format(To))\n",
    "print(\"The temperature Text is {0} K\".format(Text))"
   ]
  },
  {
   "cell_type": "code",
   "execution_count": null,
   "metadata": {},
   "outputs": [],
   "source": []
  }
 ],
 "metadata": {
  "kernelspec": {
   "display_name": "Python 3",
   "language": "python",
   "name": "python3"
  },
  "language_info": {
   "codemirror_mode": {
    "name": "ipython",
    "version": 3
   },
   "file_extension": ".py",
   "mimetype": "text/x-python",
   "name": "python",
   "nbconvert_exporter": "python",
   "pygments_lexer": "ipython3",
   "version": "3.6.5"
  },
  "varInspector": {
   "cols": {
    "lenName": 16,
    "lenType": 16,
    "lenVar": 40
   },
   "kernels_config": {
    "python": {
     "delete_cmd_postfix": "",
     "delete_cmd_prefix": "del ",
     "library": "var_list.py",
     "varRefreshCmd": "print(var_dic_list())"
    },
    "r": {
     "delete_cmd_postfix": ") ",
     "delete_cmd_prefix": "rm(",
     "library": "var_list.r",
     "varRefreshCmd": "cat(var_dic_list()) "
    }
   },
   "types_to_exclude": [
    "module",
    "function",
    "builtin_function_or_method",
    "instance",
    "_Feature"
   ],
   "window_display": false
  }
 },
 "nbformat": 4,
 "nbformat_minor": 2
}
